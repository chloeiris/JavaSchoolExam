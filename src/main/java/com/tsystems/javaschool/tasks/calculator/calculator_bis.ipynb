{
 "cells": [
  {
   "cell_type": "code",
   "execution_count": 160,
   "metadata": {},
   "outputs": [],
   "source": [
    "def calculator(string):\n",
    "    #adding try except syntax to handle simple exceptions        \n",
    "    try:  \n",
    "        #defining initial variables and necessary transformations of the string \n",
    "        sym= [\"+\", \"-\", \"*\", \"/\"]\n",
    "        par = [\"(\",\")\"]\n",
    "        calc = list(string.strip())\n",
    "        for c in calc:\n",
    "            if c == \" \":\n",
    "                calc.remove(c)\n",
    "\n",
    "        #first extracting the index of the possible existing parentheses\n",
    "        prths = []\n",
    "        for i, l in enumerate(calc):\n",
    "            if l in par:\n",
    "                prths.append(i)\n",
    "\n",
    "        #in case there are parentheses...\n",
    "        if prths:\n",
    "            if len(prths) %2 != 0:\n",
    "                return print(\"Match your parenthesis.\")\n",
    "            \n",
    "            #and they match in pairs:\n",
    "            else:\n",
    "                #a dictionary is set to store the pairs of indexes\n",
    "                keys = []\n",
    "                values = []\n",
    "                for i in prths:\n",
    "                    if prths.index(i) %2 == 0:\n",
    "                        keys.append(i)\n",
    "                    else:\n",
    "                        values.append(i)\n",
    "                pairs = dict(zip(keys, values))\n",
    "\n",
    "                #main_ extracts the string operations inside the parentheses while keeping the index\n",
    "                main_ = {}\n",
    "                for i in range(len(pairs)):\n",
    "                    start = list(pairs.keys())[i]\n",
    "                    stop = list(pairs.values())[i]\n",
    "                    main_[start] = (\"\".join(calc[start+1:stop]))\n",
    "\n",
    "                #mains stores the results of each string operation whle keeping the index \n",
    "                mains = {}\n",
    "                for start, op in main_.items():\n",
    "                    #transforming and calculating the result for each string operation \n",
    "                    syms = []\n",
    "                    for l in op:\n",
    "                        if l in sym:\n",
    "                            syms.append(l)\n",
    "                            op = op.replace(l, \" \")\n",
    "                    op = op.split()\n",
    "\n",
    "                    nums = []\n",
    "                    for n in op:\n",
    "                        if '.' in n:\n",
    "                            nums.append(float(n))\n",
    "                        else:\n",
    "                            nums.append(int(n))\n",
    "\n",
    "                    operation = nums[0]\n",
    "                    for i in range(len(syms)):\n",
    "                        if syms[i] == \"+\":\n",
    "                            operation = operation + nums[i+1]\n",
    "                        elif syms[i]  == \"-\":\n",
    "                            operation = operation - nums[i+1]\n",
    "                        elif syms[i]  == \"*\":\n",
    "                            operation = operation * nums[i+1]\n",
    "                        elif syms[i]  == \"/\":\n",
    "                            operation = operation / nums[i+1]\n",
    "                    mains[start] = str(operation)\n",
    "                \n",
    "                #reconverting into string so the results can replace the string operations\n",
    "                final_calc = \"\".join(calc)\n",
    "                for index, op in main_.items():\n",
    "                    final_calc = final_calc.replace(op, mains[index])\n",
    "                \n",
    "                #calculating the final string operation\n",
    "                symbls = []\n",
    "                for l in final_calc:\n",
    "                    if l in sym:\n",
    "                        symbls.append(l)\n",
    "                        final_calc = final_calc.replace(l, \" \")\n",
    "                    elif l in par:\n",
    "                        final_calc = final_calc.replace(l, \"\")\n",
    "\n",
    "                final_calc = final_calc.split()\n",
    "\n",
    "                final_nums = []\n",
    "                for n in final_calc:\n",
    "                    if '.' in n:\n",
    "                        final_nums.append(float(n))\n",
    "                    else:\n",
    "                        final_nums.append(int(n))\n",
    "\n",
    "                fin_op = final_nums[0]\n",
    "                for i in range(len(symbls)):\n",
    "                    if symbls[i] == \"+\":\n",
    "                        fin_op = fin_op + final_nums[i+1]\n",
    "                    elif symbls[i]  == \"-\":\n",
    "                        fin_op = fin_op - final_nums[i+1]\n",
    "                    elif symbls[i]  == \"*\":\n",
    "                        fin_op = fin_op * final_nums[i+1]\n",
    "                    elif symbls[i]  == \"/\":\n",
    "                        fin_op = fin_op / final_nums[i+1]\n",
    "                \n",
    "                return print(fin_op)\n",
    "\n",
    "        #in case there were no parentheses, this is the process:\n",
    "        else:\n",
    "            #extract the symbols and replace by a space so the string can be split\n",
    "            smbls = []\n",
    "            for l in string:\n",
    "                if l in sym:\n",
    "                    smbls.append(l)\n",
    "                    string = string.replace(l, \" \")\n",
    "            string = string.split()\n",
    "\n",
    "            #convert each string into a numeric type\n",
    "            nums2 = []\n",
    "            for n in string:\n",
    "                if '.' in n:\n",
    "                    nums2.append(float(n))\n",
    "                else:\n",
    "                    nums2.append(int(n))\n",
    "\n",
    "            #calculate the operation based on the number of symbols extracted and accumulating the results\n",
    "            operation2 = nums2[0]\n",
    "            for i in range(len(smbls)):\n",
    "                if smbls[i] == \"+\":\n",
    "                    operation2 = operation2 + nums2[i+1]\n",
    "                elif smbls[i]  == \"-\":\n",
    "                    operation2 = operation2 - nums2[i+1]\n",
    "                elif smbls[i]  == \"*\":\n",
    "                    operation2 = operation2 * nums2[i+1]\n",
    "                elif smbls[i]  == \"/\":\n",
    "                    operation2 = operation2 / nums2[i+1]\n",
    "            return print(operation2)\n",
    "\n",
    "    #if none of this was possible, this message will show up:\n",
    "    except:\n",
    "        return print(\"NULL. Introduce a valid string and decimals with '.'\")\n",
    "        \n"
   ]
  },
  {
   "cell_type": "code",
   "execution_count": 161,
   "metadata": {},
   "outputs": [
    {
     "name": "stdout",
     "output_type": "stream",
     "text": [
      "151\n"
     ]
    }
   ],
   "source": [
    "calculator(\"(1+38)*4-5\")"
   ]
  },
  {
   "cell_type": "code",
   "execution_count": 162,
   "metadata": {},
   "outputs": [
    {
     "name": "stdout",
     "output_type": "stream",
     "text": [
      "29.0\n"
     ]
    }
   ],
   "source": [
    "calculator(\"7*6/2+8\")"
   ]
  },
  {
   "cell_type": "code",
   "execution_count": 163,
   "metadata": {},
   "outputs": [
    {
     "name": "stdout",
     "output_type": "stream",
     "text": [
      "NULL. Introduce a valid string and decimals with '.'\n"
     ]
    }
   ],
   "source": [
    "calculator(\"-12)1//(\")"
   ]
  },
  {
   "cell_type": "code",
   "execution_count": 165,
   "metadata": {},
   "outputs": [
    {
     "name": "stdout",
     "output_type": "stream",
     "text": [
      "25\n"
     ]
    }
   ],
   "source": [
    "calculator(\"(5*3+3)+5+2\")"
   ]
  }
 ],
 "metadata": {
  "kernelspec": {
   "display_name": "base",
   "language": "python",
   "name": "python3"
  },
  "language_info": {
   "codemirror_mode": {
    "name": "ipython",
    "version": 3
   },
   "file_extension": ".py",
   "mimetype": "text/x-python",
   "name": "python",
   "nbconvert_exporter": "python",
   "pygments_lexer": "ipython3",
   "version": "3.9.7"
  },
  "orig_nbformat": 4,
  "vscode": {
   "interpreter": {
    "hash": "6be5d780ee9b0e6fe20ff9090f4981b24f52f07297829e94136e87c5137905e3"
   }
  }
 },
 "nbformat": 4,
 "nbformat_minor": 2
}
